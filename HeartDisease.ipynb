{
 "cells": [
  {
   "cell_type": "markdown",
   "metadata": {},
   "source": [
    "# DSCI 503 - Homework 07\n",
    "### Felix Asare"
   ]
  },
  {
   "cell_type": "code",
   "execution_count": 1,
   "metadata": {},
   "outputs": [],
   "source": [
    "# Import numpy, pandas, and matplotlib.pyplot\n",
    "import numpy as np\n",
    "import pandas as pd\n",
    "import matplotlib.pyplot as plt\n",
    "\n",
    "# Import LinearRegression, LogisticRegression, and train_test_split from sklearn.\n",
    "from sklearn.linear_model import LinearRegression, LogisticRegression\n",
    "from sklearn.model_selection import train_test_split\n"
   ]
  },
  {
   "cell_type": "markdown",
   "metadata": {},
   "source": [
    "## Problem 1: NYC Restaurants Dataset"
   ]
  },
  {
   "cell_type": "code",
   "execution_count": 2,
   "metadata": {},
   "outputs": [
    {
     "data": {
      "text/html": [
       "<div>\n",
       "<style scoped>\n",
       "    .dataframe tbody tr th:only-of-type {\n",
       "        vertical-align: middle;\n",
       "    }\n",
       "\n",
       "    .dataframe tbody tr th {\n",
       "        vertical-align: top;\n",
       "    }\n",
       "\n",
       "    .dataframe thead th {\n",
       "        text-align: right;\n",
       "    }\n",
       "</style>\n",
       "<table border=\"1\" class=\"dataframe\">\n",
       "  <thead>\n",
       "    <tr style=\"text-align: right;\">\n",
       "      <th></th>\n",
       "      <th>Price</th>\n",
       "      <th>Food</th>\n",
       "      <th>Decor</th>\n",
       "      <th>Service</th>\n",
       "      <th>Wait</th>\n",
       "      <th>East</th>\n",
       "    </tr>\n",
       "  </thead>\n",
       "  <tbody>\n",
       "    <tr>\n",
       "      <th>0</th>\n",
       "      <td>43</td>\n",
       "      <td>22</td>\n",
       "      <td>18</td>\n",
       "      <td>20</td>\n",
       "      <td>36</td>\n",
       "      <td>0</td>\n",
       "    </tr>\n",
       "    <tr>\n",
       "      <th>1</th>\n",
       "      <td>32</td>\n",
       "      <td>20</td>\n",
       "      <td>19</td>\n",
       "      <td>19</td>\n",
       "      <td>22</td>\n",
       "      <td>0</td>\n",
       "    </tr>\n",
       "    <tr>\n",
       "      <th>2</th>\n",
       "      <td>34</td>\n",
       "      <td>21</td>\n",
       "      <td>13</td>\n",
       "      <td>18</td>\n",
       "      <td>20</td>\n",
       "      <td>0</td>\n",
       "    </tr>\n",
       "    <tr>\n",
       "      <th>3</th>\n",
       "      <td>41</td>\n",
       "      <td>20</td>\n",
       "      <td>20</td>\n",
       "      <td>17</td>\n",
       "      <td>25</td>\n",
       "      <td>0</td>\n",
       "    </tr>\n",
       "    <tr>\n",
       "      <th>4</th>\n",
       "      <td>54</td>\n",
       "      <td>24</td>\n",
       "      <td>19</td>\n",
       "      <td>21</td>\n",
       "      <td>32</td>\n",
       "      <td>0</td>\n",
       "    </tr>\n",
       "    <tr>\n",
       "      <th>5</th>\n",
       "      <td>52</td>\n",
       "      <td>22</td>\n",
       "      <td>22</td>\n",
       "      <td>21</td>\n",
       "      <td>15</td>\n",
       "      <td>0</td>\n",
       "    </tr>\n",
       "    <tr>\n",
       "      <th>6</th>\n",
       "      <td>34</td>\n",
       "      <td>22</td>\n",
       "      <td>16</td>\n",
       "      <td>21</td>\n",
       "      <td>25</td>\n",
       "      <td>0</td>\n",
       "    </tr>\n",
       "    <tr>\n",
       "      <th>7</th>\n",
       "      <td>34</td>\n",
       "      <td>20</td>\n",
       "      <td>18</td>\n",
       "      <td>21</td>\n",
       "      <td>21</td>\n",
       "      <td>1</td>\n",
       "    </tr>\n",
       "    <tr>\n",
       "      <th>8</th>\n",
       "      <td>39</td>\n",
       "      <td>22</td>\n",
       "      <td>19</td>\n",
       "      <td>22</td>\n",
       "      <td>23</td>\n",
       "      <td>1</td>\n",
       "    </tr>\n",
       "    <tr>\n",
       "      <th>9</th>\n",
       "      <td>44</td>\n",
       "      <td>21</td>\n",
       "      <td>17</td>\n",
       "      <td>19</td>\n",
       "      <td>27</td>\n",
       "      <td>1</td>\n",
       "    </tr>\n",
       "  </tbody>\n",
       "</table>\n",
       "</div>"
      ],
      "text/plain": [
       "   Price  Food  Decor  Service  Wait  East\n",
       "0     43    22     18       20    36     0\n",
       "1     32    20     19       19    22     0\n",
       "2     34    21     13       18    20     0\n",
       "3     41    20     20       17    25     0\n",
       "4     54    24     19       21    32     0\n",
       "5     52    22     22       21    15     0\n",
       "6     34    22     16       21    25     0\n",
       "7     34    20     18       21    21     1\n",
       "8     39    22     19       22    23     1\n",
       "9     44    21     17       19    27     1"
      ]
     },
     "execution_count": 2,
     "metadata": {},
     "output_type": "execute_result"
    }
   ],
   "source": [
    "# Loading the nyc data\n",
    "\n",
    "nyc = pd.read_csv('nyc.txt', sep='\\t')\n",
    "nyc.head(10)"
   ]
  },
  {
   "cell_type": "code",
   "execution_count": 3,
   "metadata": {},
   "outputs": [
    {
     "name": "stdout",
     "output_type": "stream",
     "text": [
      "Training Features Shape:  (134, 5)\n",
      "Test Features Shape:      (34, 5)\n"
     ]
    }
   ],
   "source": [
    "# Create a 2D feature array named X1 containing the relevant features, as well as a 1D label array named y1 containing the labels.\n",
    "X1 = nyc.iloc[:,1:].values\n",
    "y1 = nyc.iloc[:,0].values\n",
    "\n",
    "# Use train_test_split() to split the data into training and testing sets \n",
    "X_train_1, X_test_1, y_train_1, y_test_1 = train_test_split(X1, y1, test_size=0.2, random_state=1)\n",
    "\n",
    "#Printing the shapes of the training and testing sets\n",
    "print(\"Training Features Shape: \", X_train_1.shape)\n",
    "print(\"Test Features Shape:     \", X_test_1.shape)\n",
    "\n"
   ]
  },
  {
   "cell_type": "code",
   "execution_count": 4,
   "metadata": {},
   "outputs": [
    {
     "name": "stdout",
     "output_type": "stream",
     "text": [
      "Intercept:     -23.755435322488836\n",
      "Coefficients:  [ 1.55693926  2.00700907 -0.25440527  0.09203064  2.63235537]\n"
     ]
    }
   ],
   "source": [
    "# Create a linear regression model named nyc_mod and then fit it to the training data.\n",
    "nyc_mod = LinearRegression()\n",
    "nyc_mod.fit(X_train_1, y_train_1)\n",
    "\n",
    "# Display the intercepts and coefficients for the final model with text labels\n",
    "print(\"Intercept:    \", nyc_mod.intercept_)\n",
    "print(\"Coefficients: \", nyc_mod.coef_)"
   ]
  },
  {
   "cell_type": "code",
   "execution_count": 5,
   "metadata": {},
   "outputs": [
    {
     "name": "stdout",
     "output_type": "stream",
     "text": [
      "Training r-Squared:  0.6306\n",
      "Testing r-Squared:   0.6245\n"
     ]
    }
   ],
   "source": [
    "# Calculate and print the training and testing r-squared values for your model, rounded to four decimal places.\n",
    "train_r2 = nyc_mod.score(X_train_1, y_train_1)\n",
    "test_r2 = nyc_mod.score(X_test_1, y_test_1)\n",
    "print(\"Training r-Squared: \", round(train_r2, 4))\n",
    "print(\"Testing r-Squared:  \", round(test_r2, 4))\n"
   ]
  },
  {
   "cell_type": "code",
   "execution_count": 6,
   "metadata": {},
   "outputs": [
    {
     "name": "stdout",
     "output_type": "stream",
     "text": [
      "Observed Prices:  [33 45 54 38 22 47 38 51 46 47]\n",
      "Estimated Prices: [39.2  38.09 49.35 39.26 19.72 47.4  36.85 50.07 48.26 43.01]\n"
     ]
    }
   ],
   "source": [
    "# Use your model to generate price estimates based on the feature values in the test set\n",
    "test_pred_1 = nyc_mod.predict(X_test_1)\n",
    "\n",
    "# Print the first 10 observed y-values for the test set, and then the first 10 predictions, rounded to two decimal places.\n",
    "print(\"Observed Prices: \", y_test_1[:10])\n",
    "print(\"Estimated Prices:\", np.round(test_pred_1[:10], 2))"
   ]
  },
  {
   "cell_type": "code",
   "execution_count": 7,
   "metadata": {},
   "outputs": [
    {
     "name": "stdout",
     "output_type": "stream",
     "text": [
      "Estimated Prices:  [30.87 42.57 58.06]\n"
     ]
    }
   ],
   "source": [
    "# Create a DataFrame named nyc_new that contains the feature values for these 3 restaurants.\n",
    "nyc_new = np.array([\n",
    "    [22, 12, 20, 15, 0], \n",
    "    [18, 19, 22, 34, 1], \n",
    "    [25, 22, 18, 36, 0] \n",
    "])\n",
    "\n",
    "# Use your model to generate price estimates for these 3 restaurants.\n",
    "new_pred_1 = nyc_mod.predict(nyc_new)\n",
    "\n",
    "# Print the estimated prices for these 3 restaurants, rounded to two decimal places.\n",
    "print(\"Estimated Prices: \", np.round(new_pred_1, 2))"
   ]
  },
  {
   "cell_type": "markdown",
   "metadata": {},
   "source": [
    "## Problem 2: Diamonds Dataset"
   ]
  },
  {
   "cell_type": "code",
   "execution_count": 8,
   "metadata": {},
   "outputs": [
    {
     "data": {
      "text/html": [
       "<div>\n",
       "<style scoped>\n",
       "    .dataframe tbody tr th:only-of-type {\n",
       "        vertical-align: middle;\n",
       "    }\n",
       "\n",
       "    .dataframe tbody tr th {\n",
       "        vertical-align: top;\n",
       "    }\n",
       "\n",
       "    .dataframe thead th {\n",
       "        text-align: right;\n",
       "    }\n",
       "</style>\n",
       "<table border=\"1\" class=\"dataframe\">\n",
       "  <thead>\n",
       "    <tr style=\"text-align: right;\">\n",
       "      <th></th>\n",
       "      <th>carat</th>\n",
       "      <th>cut</th>\n",
       "      <th>color</th>\n",
       "      <th>clarity</th>\n",
       "      <th>depth</th>\n",
       "      <th>table</th>\n",
       "      <th>price</th>\n",
       "      <th>x</th>\n",
       "      <th>y</th>\n",
       "      <th>z</th>\n",
       "    </tr>\n",
       "  </thead>\n",
       "  <tbody>\n",
       "    <tr>\n",
       "      <th>1</th>\n",
       "      <td>0.23</td>\n",
       "      <td>Ideal</td>\n",
       "      <td>E</td>\n",
       "      <td>SI2</td>\n",
       "      <td>61.5</td>\n",
       "      <td>55.0</td>\n",
       "      <td>326</td>\n",
       "      <td>3.95</td>\n",
       "      <td>3.98</td>\n",
       "      <td>2.43</td>\n",
       "    </tr>\n",
       "    <tr>\n",
       "      <th>2</th>\n",
       "      <td>0.21</td>\n",
       "      <td>Premium</td>\n",
       "      <td>E</td>\n",
       "      <td>SI1</td>\n",
       "      <td>59.8</td>\n",
       "      <td>61.0</td>\n",
       "      <td>326</td>\n",
       "      <td>3.89</td>\n",
       "      <td>3.84</td>\n",
       "      <td>2.31</td>\n",
       "    </tr>\n",
       "    <tr>\n",
       "      <th>3</th>\n",
       "      <td>0.23</td>\n",
       "      <td>Good</td>\n",
       "      <td>E</td>\n",
       "      <td>VS1</td>\n",
       "      <td>56.9</td>\n",
       "      <td>65.0</td>\n",
       "      <td>327</td>\n",
       "      <td>4.05</td>\n",
       "      <td>4.07</td>\n",
       "      <td>2.31</td>\n",
       "    </tr>\n",
       "    <tr>\n",
       "      <th>4</th>\n",
       "      <td>0.29</td>\n",
       "      <td>Premium</td>\n",
       "      <td>I</td>\n",
       "      <td>VS2</td>\n",
       "      <td>62.4</td>\n",
       "      <td>58.0</td>\n",
       "      <td>334</td>\n",
       "      <td>4.20</td>\n",
       "      <td>4.23</td>\n",
       "      <td>2.63</td>\n",
       "    </tr>\n",
       "    <tr>\n",
       "      <th>5</th>\n",
       "      <td>0.31</td>\n",
       "      <td>Good</td>\n",
       "      <td>J</td>\n",
       "      <td>SI2</td>\n",
       "      <td>63.3</td>\n",
       "      <td>58.0</td>\n",
       "      <td>335</td>\n",
       "      <td>4.34</td>\n",
       "      <td>4.35</td>\n",
       "      <td>2.75</td>\n",
       "    </tr>\n",
       "  </tbody>\n",
       "</table>\n",
       "</div>"
      ],
      "text/plain": [
       "   carat      cut color clarity  depth  table  price     x     y     z\n",
       "1   0.23    Ideal     E     SI2   61.5   55.0    326  3.95  3.98  2.43\n",
       "2   0.21  Premium     E     SI1   59.8   61.0    326  3.89  3.84  2.31\n",
       "3   0.23     Good     E     VS1   56.9   65.0    327  4.05  4.07  2.31\n",
       "4   0.29  Premium     I     VS2   62.4   58.0    334  4.20  4.23  2.63\n",
       "5   0.31     Good     J     SI2   63.3   58.0    335  4.34  4.35  2.75"
      ]
     },
     "execution_count": 8,
     "metadata": {},
     "output_type": "execute_result"
    }
   ],
   "source": [
    "# Loading the diamonds data\n",
    "diamonds = pd.read_csv('diamonds.txt', sep='\\t')\n",
    "diamonds.head()"
   ]
  },
  {
   "cell_type": "code",
   "execution_count": 9,
   "metadata": {},
   "outputs": [
    {
     "data": {
      "text/html": [
       "<div>\n",
       "<style scoped>\n",
       "    .dataframe tbody tr th:only-of-type {\n",
       "        vertical-align: middle;\n",
       "    }\n",
       "\n",
       "    .dataframe tbody tr th {\n",
       "        vertical-align: top;\n",
       "    }\n",
       "\n",
       "    .dataframe thead th {\n",
       "        text-align: right;\n",
       "    }\n",
       "</style>\n",
       "<table border=\"1\" class=\"dataframe\">\n",
       "  <thead>\n",
       "    <tr style=\"text-align: right;\">\n",
       "      <th></th>\n",
       "      <th>carat</th>\n",
       "      <th>cut</th>\n",
       "      <th>color</th>\n",
       "      <th>clarity</th>\n",
       "      <th>depth</th>\n",
       "      <th>table</th>\n",
       "      <th>price</th>\n",
       "      <th>x</th>\n",
       "      <th>y</th>\n",
       "      <th>z</th>\n",
       "      <th>ln_carat</th>\n",
       "      <th>ln_price</th>\n",
       "    </tr>\n",
       "  </thead>\n",
       "  <tbody>\n",
       "    <tr>\n",
       "      <th>1</th>\n",
       "      <td>0.23</td>\n",
       "      <td>Ideal</td>\n",
       "      <td>E</td>\n",
       "      <td>SI2</td>\n",
       "      <td>61.5</td>\n",
       "      <td>55.0</td>\n",
       "      <td>326</td>\n",
       "      <td>3.95</td>\n",
       "      <td>3.98</td>\n",
       "      <td>2.43</td>\n",
       "      <td>-1.469676</td>\n",
       "      <td>5.786897</td>\n",
       "    </tr>\n",
       "    <tr>\n",
       "      <th>2</th>\n",
       "      <td>0.21</td>\n",
       "      <td>Premium</td>\n",
       "      <td>E</td>\n",
       "      <td>SI1</td>\n",
       "      <td>59.8</td>\n",
       "      <td>61.0</td>\n",
       "      <td>326</td>\n",
       "      <td>3.89</td>\n",
       "      <td>3.84</td>\n",
       "      <td>2.31</td>\n",
       "      <td>-1.560648</td>\n",
       "      <td>5.786897</td>\n",
       "    </tr>\n",
       "    <tr>\n",
       "      <th>3</th>\n",
       "      <td>0.23</td>\n",
       "      <td>Good</td>\n",
       "      <td>E</td>\n",
       "      <td>VS1</td>\n",
       "      <td>56.9</td>\n",
       "      <td>65.0</td>\n",
       "      <td>327</td>\n",
       "      <td>4.05</td>\n",
       "      <td>4.07</td>\n",
       "      <td>2.31</td>\n",
       "      <td>-1.469676</td>\n",
       "      <td>5.789960</td>\n",
       "    </tr>\n",
       "    <tr>\n",
       "      <th>4</th>\n",
       "      <td>0.29</td>\n",
       "      <td>Premium</td>\n",
       "      <td>I</td>\n",
       "      <td>VS2</td>\n",
       "      <td>62.4</td>\n",
       "      <td>58.0</td>\n",
       "      <td>334</td>\n",
       "      <td>4.20</td>\n",
       "      <td>4.23</td>\n",
       "      <td>2.63</td>\n",
       "      <td>-1.237874</td>\n",
       "      <td>5.811141</td>\n",
       "    </tr>\n",
       "    <tr>\n",
       "      <th>5</th>\n",
       "      <td>0.31</td>\n",
       "      <td>Good</td>\n",
       "      <td>J</td>\n",
       "      <td>SI2</td>\n",
       "      <td>63.3</td>\n",
       "      <td>58.0</td>\n",
       "      <td>335</td>\n",
       "      <td>4.34</td>\n",
       "      <td>4.35</td>\n",
       "      <td>2.75</td>\n",
       "      <td>-1.171183</td>\n",
       "      <td>5.814131</td>\n",
       "    </tr>\n",
       "  </tbody>\n",
       "</table>\n",
       "</div>"
      ],
      "text/plain": [
       "   carat      cut color clarity  depth  table  price     x     y     z  \\\n",
       "1   0.23    Ideal     E     SI2   61.5   55.0    326  3.95  3.98  2.43   \n",
       "2   0.21  Premium     E     SI1   59.8   61.0    326  3.89  3.84  2.31   \n",
       "3   0.23     Good     E     VS1   56.9   65.0    327  4.05  4.07  2.31   \n",
       "4   0.29  Premium     I     VS2   62.4   58.0    334  4.20  4.23  2.63   \n",
       "5   0.31     Good     J     SI2   63.3   58.0    335  4.34  4.35  2.75   \n",
       "\n",
       "   ln_carat  ln_price  \n",
       "1 -1.469676  5.786897  \n",
       "2 -1.560648  5.786897  \n",
       "3 -1.469676  5.789960  \n",
       "4 -1.237874  5.811141  \n",
       "5 -1.171183  5.814131  "
      ]
     },
     "execution_count": 9,
     "metadata": {},
     "output_type": "execute_result"
    }
   ],
   "source": [
    "# Adding 2 new columns ln_carat and ln_price to the diamonds DataFrame\n",
    "diamonds['ln_carat'] = np.log(diamonds['carat'])\n",
    "diamonds['ln_price'] = np.log(diamonds['price'])\n",
    "\n",
    "#Printing the first 5 rows of the diamonds DataFrame\n",
    "diamonds.head()"
   ]
  },
  {
   "cell_type": "code",
   "execution_count": 10,
   "metadata": {},
   "outputs": [
    {
     "data": {
      "image/png": "[encoded data removed]",
      "text/plain": [
       "<Figure size 1000x400 with 2 Axes>"
      ]
     },
     "metadata": {},
     "output_type": "display_data"
    }
   ],
   "source": [
    "# Create two side-by-side scatterplots. The first scatter plot should display the relationship between carat and price, while the second scatterplot should display the relationship between the transformed variables.\n",
    "fig, axs = plt.subplots(1, 2, figsize=(10, 4))\n",
    "axs[0].scatter(diamonds['carat'], diamonds['price'], s=20, alpha=0.2)\n",
    "axs[0].set_title('Relationship between Price and Carat Size')\n",
    "axs[0].set_xlabel('Carat Size')\n",
    "axs[0].set_ylabel('Price')\n",
    "axs[1].scatter(diamonds['ln_carat'], diamonds['ln_price'], s=20, alpha=0.2)\n",
    "axs[1].set_title('Relationship between Log-Price and Log-Carat Size')\n",
    "axs[1].set_xlabel('Natural Log ofCarat Size')\n",
    "axs[1].set_ylabel('Natural Log of Price')\n",
    "plt.tight_layout()\n",
    "plt.show()"
   ]
  },
  {
   "cell_type": "code",
   "execution_count": 11,
   "metadata": {},
   "outputs": [
    {
     "name": "stdout",
     "output_type": "stream",
     "text": [
      "Training Features Shape:  (48546,)\n",
      "Test Features Shape:      (5394,)\n"
     ]
    }
   ],
   "source": [
    "# Create a 2D feature array named X2 containing ln_price using ln_carat as features, as well as a 1D label array named y2\n",
    "X2 = diamonds['ln_carat'].values\n",
    "y2 = diamonds['ln_price'].values\n",
    "\n",
    "# Use train_test_split() to split the data into training and testing sets 90% training and 10% testing\n",
    "X_train_2, X_test_2, y_train_2, y_test_2 = train_test_split(X2, y2, test_size=0.1, random_state=1)\n",
    "\n",
    "#Printing the shapes of the training and testing sets\n",
    "print(\"Training Features Shape: \", X_train_2.shape)\n",
    "print(\"Test Features Shape:     \", X_test_2.shape)"
   ]
  },
  {
   "cell_type": "code",
   "execution_count": 12,
   "metadata": {},
   "outputs": [
    {
     "name": "stdout",
     "output_type": "stream",
     "text": [
      "Intercept:     8.44829862117915\n",
      "Coefficients:  [1.67493107]\n"
     ]
    }
   ],
   "source": [
    "# Create a linear regression model named dia_mod and then fit it to the training data.\n",
    "dia_mod = LinearRegression()\n",
    "dia_mod.fit(X_train_2.reshape(-1, 1), y_train_2)\n",
    "\n",
    "# Display the intercepts and coefficients for the final model with text labels\n",
    "print(\"Intercept:    \", dia_mod.intercept_)\n",
    "print(\"Coefficients: \", dia_mod.coef_)\n",
    "\n"
   ]
  },
  {
   "cell_type": "code",
   "execution_count": 13,
   "metadata": {},
   "outputs": [
    {
     "name": "stdout",
     "output_type": "stream",
     "text": [
      "Training r-Squared:  0.933\n",
      "Testing r-Squared:   0.9328\n"
     ]
    }
   ],
   "source": [
    "# Calculate and print the training and testing r-squared values for your model, rounded to four decimal places.\n",
    "train_r2 = dia_mod.score(X_train_2.reshape(-1, 1), y_train_2)\n",
    "test_r2 = dia_mod.score(X_test_2.reshape(-1, 1), y_test_2)\n",
    "print(\"Training r-Squared: \", round(train_r2, 4))\n",
    "print(\"Testing r-Squared:  \", round(test_r2, 4))"
   ]
  },
  {
   "cell_type": "code",
   "execution_count": 14,
   "metadata": {},
   "outputs": [
    {
     "name": "stdout",
     "output_type": "stream",
     "text": [
      "Observed Prices:  [ 564. 5914. 2562.  537. 5964.  984. 5247.  611. 9645. 1162.]\n",
      "Estimated Prices: [ 729. 6334. 2096.  766. 6334. 1612. 5309. 1048. 9204.  804.]\n"
     ]
    }
   ],
   "source": [
    "# Use your model to generate price estimates based on the feature values in the test set\n",
    "test_pred_2 = dia_mod.predict(X_test_2.reshape(-1, 1))\n",
    "\n",
    "#printing the first 10 observed y-values for the test set, and then the first 10 predictions, rounded to the nearest number.\n",
    "print(\"Observed Prices: \", np.round(np.exp(y_test_2[:10]), 0))\n",
    "print(\"Estimated Prices:\", np.round(np.exp(test_pred_2[:10]), 0))"
   ]
  },
  {
   "cell_type": "code",
   "execution_count": 15,
   "metadata": {},
   "outputs": [
    {
     "name": "stdout",
     "output_type": "stream",
     "text": [
      "Estimated Prices:  [ 10783.  24915.  57566. 133007. 307314. 710051.]\n"
     ]
    }
   ],
   "source": [
    "# Create a 2D column array named diamonds_new to store the natural logarithm of the carat size 0.5, 1.0, 1.5, 2.0, 2.5, 3.0\n",
    "diamonds_new = np.array([0.5, 1.0, 1.5, 2.0, 2.5, 3.0])\n",
    "\n",
    "# Using model to predict diamonds_new\n",
    "new_pred_2 = dia_mod.predict(diamonds_new.reshape(-1, 1))\n",
    "\n",
    "# Print predicted prices for the diamonds_new, rounded to the nearest dollar.\n",
    "print(\"Estimated Prices: \", np.round(np.exp(new_pred_2), 0))"
   ]
  },
  {
   "cell_type": "markdown",
   "metadata": {},
   "source": [
    "## Problem 3: Heart Disease Dataset"
   ]
  },
  {
   "cell_type": "code",
   "execution_count": 16,
   "metadata": {},
   "outputs": [
    {
     "data": {
      "text/html": [
       "<div>\n",
       "<style scoped>\n",
       "    .dataframe tbody tr th:only-of-type {\n",
       "        vertical-align: middle;\n",
       "    }\n",
       "\n",
       "    .dataframe tbody tr th {\n",
       "        vertical-align: top;\n",
       "    }\n",
       "\n",
       "    .dataframe thead th {\n",
       "        text-align: right;\n",
       "    }\n",
       "</style>\n",
       "<table border=\"1\" class=\"dataframe\">\n",
       "  <thead>\n",
       "    <tr style=\"text-align: right;\">\n",
       "      <th></th>\n",
       "      <th>age</th>\n",
       "      <th>sex</th>\n",
       "      <th>chest_pain_type</th>\n",
       "      <th>resting_bp</th>\n",
       "      <th>serum_chol</th>\n",
       "      <th>fasting_blood_sugar</th>\n",
       "      <th>electrocardio</th>\n",
       "      <th>max_heart_rate</th>\n",
       "      <th>exercise_induced_angina</th>\n",
       "      <th>oldpeak</th>\n",
       "      <th>slope</th>\n",
       "      <th>major_vessels</th>\n",
       "      <th>thal</th>\n",
       "      <th>heart_disease</th>\n",
       "    </tr>\n",
       "  </thead>\n",
       "  <tbody>\n",
       "    <tr>\n",
       "      <th>0</th>\n",
       "      <td>70</td>\n",
       "      <td>1</td>\n",
       "      <td>4</td>\n",
       "      <td>130</td>\n",
       "      <td>322</td>\n",
       "      <td>0</td>\n",
       "      <td>2</td>\n",
       "      <td>109</td>\n",
       "      <td>0</td>\n",
       "      <td>2.4</td>\n",
       "      <td>2</td>\n",
       "      <td>3</td>\n",
       "      <td>3</td>\n",
       "      <td>2</td>\n",
       "    </tr>\n",
       "    <tr>\n",
       "      <th>1</th>\n",
       "      <td>67</td>\n",
       "      <td>0</td>\n",
       "      <td>3</td>\n",
       "      <td>115</td>\n",
       "      <td>564</td>\n",
       "      <td>0</td>\n",
       "      <td>2</td>\n",
       "      <td>160</td>\n",
       "      <td>0</td>\n",
       "      <td>1.6</td>\n",
       "      <td>2</td>\n",
       "      <td>0</td>\n",
       "      <td>7</td>\n",
       "      <td>1</td>\n",
       "    </tr>\n",
       "    <tr>\n",
       "      <th>2</th>\n",
       "      <td>57</td>\n",
       "      <td>1</td>\n",
       "      <td>2</td>\n",
       "      <td>124</td>\n",
       "      <td>261</td>\n",
       "      <td>0</td>\n",
       "      <td>0</td>\n",
       "      <td>141</td>\n",
       "      <td>0</td>\n",
       "      <td>0.3</td>\n",
       "      <td>1</td>\n",
       "      <td>0</td>\n",
       "      <td>7</td>\n",
       "      <td>2</td>\n",
       "    </tr>\n",
       "    <tr>\n",
       "      <th>3</th>\n",
       "      <td>64</td>\n",
       "      <td>1</td>\n",
       "      <td>4</td>\n",
       "      <td>128</td>\n",
       "      <td>263</td>\n",
       "      <td>0</td>\n",
       "      <td>0</td>\n",
       "      <td>105</td>\n",
       "      <td>1</td>\n",
       "      <td>0.2</td>\n",
       "      <td>2</td>\n",
       "      <td>1</td>\n",
       "      <td>7</td>\n",
       "      <td>1</td>\n",
       "    </tr>\n",
       "    <tr>\n",
       "      <th>4</th>\n",
       "      <td>74</td>\n",
       "      <td>0</td>\n",
       "      <td>2</td>\n",
       "      <td>120</td>\n",
       "      <td>269</td>\n",
       "      <td>0</td>\n",
       "      <td>2</td>\n",
       "      <td>121</td>\n",
       "      <td>1</td>\n",
       "      <td>0.2</td>\n",
       "      <td>1</td>\n",
       "      <td>1</td>\n",
       "      <td>3</td>\n",
       "      <td>1</td>\n",
       "    </tr>\n",
       "    <tr>\n",
       "      <th>5</th>\n",
       "      <td>65</td>\n",
       "      <td>1</td>\n",
       "      <td>4</td>\n",
       "      <td>120</td>\n",
       "      <td>177</td>\n",
       "      <td>0</td>\n",
       "      <td>0</td>\n",
       "      <td>140</td>\n",
       "      <td>0</td>\n",
       "      <td>0.4</td>\n",
       "      <td>1</td>\n",
       "      <td>0</td>\n",
       "      <td>7</td>\n",
       "      <td>1</td>\n",
       "    </tr>\n",
       "    <tr>\n",
       "      <th>6</th>\n",
       "      <td>56</td>\n",
       "      <td>1</td>\n",
       "      <td>3</td>\n",
       "      <td>130</td>\n",
       "      <td>256</td>\n",
       "      <td>1</td>\n",
       "      <td>2</td>\n",
       "      <td>142</td>\n",
       "      <td>1</td>\n",
       "      <td>0.6</td>\n",
       "      <td>2</td>\n",
       "      <td>1</td>\n",
       "      <td>6</td>\n",
       "      <td>2</td>\n",
       "    </tr>\n",
       "    <tr>\n",
       "      <th>7</th>\n",
       "      <td>59</td>\n",
       "      <td>1</td>\n",
       "      <td>4</td>\n",
       "      <td>110</td>\n",
       "      <td>239</td>\n",
       "      <td>0</td>\n",
       "      <td>2</td>\n",
       "      <td>142</td>\n",
       "      <td>1</td>\n",
       "      <td>1.2</td>\n",
       "      <td>2</td>\n",
       "      <td>1</td>\n",
       "      <td>7</td>\n",
       "      <td>2</td>\n",
       "    </tr>\n",
       "    <tr>\n",
       "      <th>8</th>\n",
       "      <td>60</td>\n",
       "      <td>1</td>\n",
       "      <td>4</td>\n",
       "      <td>140</td>\n",
       "      <td>293</td>\n",
       "      <td>0</td>\n",
       "      <td>2</td>\n",
       "      <td>170</td>\n",
       "      <td>0</td>\n",
       "      <td>1.2</td>\n",
       "      <td>2</td>\n",
       "      <td>2</td>\n",
       "      <td>7</td>\n",
       "      <td>2</td>\n",
       "    </tr>\n",
       "    <tr>\n",
       "      <th>9</th>\n",
       "      <td>63</td>\n",
       "      <td>0</td>\n",
       "      <td>4</td>\n",
       "      <td>150</td>\n",
       "      <td>407</td>\n",
       "      <td>0</td>\n",
       "      <td>2</td>\n",
       "      <td>154</td>\n",
       "      <td>0</td>\n",
       "      <td>4.0</td>\n",
       "      <td>2</td>\n",
       "      <td>3</td>\n",
       "      <td>7</td>\n",
       "      <td>2</td>\n",
       "    </tr>\n",
       "  </tbody>\n",
       "</table>\n",
       "</div>"
      ],
      "text/plain": [
       "   age  sex  chest_pain_type  resting_bp  serum_chol  fasting_blood_sugar  \\\n",
       "0   70    1                4         130         322                    0   \n",
       "1   67    0                3         115         564                    0   \n",
       "2   57    1                2         124         261                    0   \n",
       "3   64    1                4         128         263                    0   \n",
       "4   74    0                2         120         269                    0   \n",
       "5   65    1                4         120         177                    0   \n",
       "6   56    1                3         130         256                    1   \n",
       "7   59    1                4         110         239                    0   \n",
       "8   60    1                4         140         293                    0   \n",
       "9   63    0                4         150         407                    0   \n",
       "\n",
       "   electrocardio  max_heart_rate  exercise_induced_angina  oldpeak  slope  \\\n",
       "0              2             109                        0      2.4      2   \n",
       "1              2             160                        0      1.6      2   \n",
       "2              0             141                        0      0.3      1   \n",
       "3              0             105                        1      0.2      2   \n",
       "4              2             121                        1      0.2      1   \n",
       "5              0             140                        0      0.4      1   \n",
       "6              2             142                        1      0.6      2   \n",
       "7              2             142                        1      1.2      2   \n",
       "8              2             170                        0      1.2      2   \n",
       "9              2             154                        0      4.0      2   \n",
       "\n",
       "   major_vessels  thal  heart_disease  \n",
       "0              3     3              2  \n",
       "1              0     7              1  \n",
       "2              0     7              2  \n",
       "3              1     7              1  \n",
       "4              1     3              1  \n",
       "5              0     7              1  \n",
       "6              1     6              2  \n",
       "7              1     7              2  \n",
       "8              2     7              2  \n",
       "9              3     7              2  "
      ]
     },
     "execution_count": 16,
     "metadata": {},
     "output_type": "execute_result"
    }
   ],
   "source": [
    "# Loading the heart_disease data\n",
    "heart_disease = pd.read_csv('heart_disease.txt', sep='\\t')\n",
    "heart_disease.head(10)"
   ]
  },
  {
   "cell_type": "code",
   "execution_count": 17,
   "metadata": {},
   "outputs": [],
   "source": [
    "# Create a 2D feature array named X3 containing the relevant features, as well as a 1D label array named y3 containing the labels.\n",
    "X3 = heart_disease.iloc[:,:-1].values\n",
    "y3 = heart_disease.iloc[:,-1].values\n"
   ]
  },
  {
   "cell_type": "code",
   "execution_count": 18,
   "metadata": {},
   "outputs": [
    {
     "name": "stdout",
     "output_type": "stream",
     "text": [
      "Training Features Shape:  (216, 13)\n",
      "Test Features Shape:      (54, 13)\n"
     ]
    }
   ],
   "source": [
    "# Use train_test_split() to split the data into training and testing sets using an 80/20 split. \n",
    "X_train_3, X_test_3, y_train_3, y_test_3 = train_test_split(X3, y3, test_size=0.2, random_state=1, stratify=y3)\n",
    "\n",
    "#Printing the shapes of the training and testing sets\n",
    "print(\"Training Features Shape: \", X_train_3.shape)\n",
    "print(\"Test Features Shape:     \", X_test_3.shape)\n"
   ]
  },
  {
   "cell_type": "code",
   "execution_count": 19,
   "metadata": {},
   "outputs": [
    {
     "data": {
      "text/html": [
       "<style>#sk-container-id-1 {color: black;background-color: white;}#sk-container-id-1 pre{padding: 0;}#sk-container-id-1 div.sk-toggleable {background-color: white;}#sk-container-id-1 label.sk-toggleable__label {cursor: pointer;display: block;width: 100%;margin-bottom: 0;padding: 0.3em;box-sizing: border-box;text-align: center;}#sk-container-id-1 label.sk-toggleable__label-arrow:before {content: \"▸\";float: left;margin-right: 0.25em;color: #696969;}#sk-container-id-1 label.sk-toggleable__label-arrow:hover:before {color: black;}#sk-container-id-1 div.sk-estimator:hover label.sk-toggleable__label-arrow:before {color: black;}#sk-container-id-1 div.sk-toggleable__content {max-height: 0;max-width: 0;overflow: hidden;text-align: left;background-color: #f0f8ff;}#sk-container-id-1 div.sk-toggleable__content pre {margin: 0.2em;color: black;border-radius: 0.25em;background-color: #f0f8ff;}#sk-container-id-1 input.sk-toggleable__control:checked~div.sk-toggleable__content {max-height: 200px;max-width: 100%;overflow: auto;}#sk-container-id-1 input.sk-toggleable__control:checked~label.sk-toggleable__label-arrow:before {content: \"▾\";}#sk-container-id-1 div.sk-estimator input.sk-toggleable__control:checked~label.sk-toggleable__label {background-color: #d4ebff;}#sk-container-id-1 div.sk-label input.sk-toggleable__control:checked~label.sk-toggleable__label {background-color: #d4ebff;}#sk-container-id-1 input.sk-hidden--visually {border: 0;clip: rect(1px 1px 1px 1px);clip: rect(1px, 1px, 1px, 1px);height: 1px;margin: -1px;overflow: hidden;padding: 0;position: absolute;width: 1px;}#sk-container-id-1 div.sk-estimator {font-family: monospace;background-color: #f0f8ff;border: 1px dotted black;border-radius: 0.25em;box-sizing: border-box;margin-bottom: 0.5em;}#sk-container-id-1 div.sk-estimator:hover {background-color: #d4ebff;}#sk-container-id-1 div.sk-parallel-item::after {content: \"\";width: 100%;border-bottom: 1px solid gray;flex-grow: 1;}#sk-container-id-1 div.sk-label:hover label.sk-toggleable__label {background-color: #d4ebff;}#sk-container-id-1 div.sk-serial::before {content: \"\";position: absolute;border-left: 1px solid gray;box-sizing: border-box;top: 0;bottom: 0;left: 50%;z-index: 0;}#sk-container-id-1 div.sk-serial {display: flex;flex-direction: column;align-items: center;background-color: white;padding-right: 0.2em;padding-left: 0.2em;position: relative;}#sk-container-id-1 div.sk-item {position: relative;z-index: 1;}#sk-container-id-1 div.sk-parallel {display: flex;align-items: stretch;justify-content: center;background-color: white;position: relative;}#sk-container-id-1 div.sk-item::before, #sk-container-id-1 div.sk-parallel-item::before {content: \"\";position: absolute;border-left: 1px solid gray;box-sizing: border-box;top: 0;bottom: 0;left: 50%;z-index: -1;}#sk-container-id-1 div.sk-parallel-item {display: flex;flex-direction: column;z-index: 1;position: relative;background-color: white;}#sk-container-id-1 div.sk-parallel-item:first-child::after {align-self: flex-end;width: 50%;}#sk-container-id-1 div.sk-parallel-item:last-child::after {align-self: flex-start;width: 50%;}#sk-container-id-1 div.sk-parallel-item:only-child::after {width: 0;}#sk-container-id-1 div.sk-dashed-wrapped {border: 1px dashed gray;margin: 0 0.4em 0.5em 0.4em;box-sizing: border-box;padding-bottom: 0.4em;background-color: white;}#sk-container-id-1 div.sk-label label {font-family: monospace;font-weight: bold;display: inline-block;line-height: 1.2em;}#sk-container-id-1 div.sk-label-container {text-align: center;}#sk-container-id-1 div.sk-container {/* jupyter's `normalize.less` sets `[hidden] { display: none; }` but bootstrap.min.css set `[hidden] { display: none !important; }` so we also need the `!important` here to be able to override the default hidden behavior on the sphinx rendered scikit-learn.org. See: https://github.com/scikit-learn/scikit-learn/issues/21755 */display: inline-block !important;position: relative;}#sk-container-id-1 div.sk-text-repr-fallback {display: none;}</style><div id=\"sk-container-id-1\" class=\"sk-top-container\"><div class=\"sk-text-repr-fallback\"><pre>LogisticRegression(max_iter=1000)</pre><b>In a Jupyter environment, please rerun this cell to show the HTML representation or trust the notebook. <br />On GitHub, the HTML representation is unable to render, please try loading this page with nbviewer.org.</b></div><div class=\"sk-container\" hidden><div class=\"sk-item\"><div class=\"sk-estimator sk-toggleable\"><input class=\"sk-toggleable__control sk-hidden--visually\" id=\"sk-estimator-id-1\" type=\"checkbox\" checked><label for=\"sk-estimator-id-1\" class=\"sk-toggleable__label sk-toggleable__label-arrow\">LogisticRegression</label><div class=\"sk-toggleable__content\"><pre>LogisticRegression(max_iter=1000)</pre></div></div></div></div></div>"
      ],
      "text/plain": [
       "LogisticRegression(max_iter=1000)"
      ]
     },
     "execution_count": 19,
     "metadata": {},
     "output_type": "execute_result"
    }
   ],
   "source": [
    "# Create a logistic regression model named hd_mod with solver='lbfgs' and penalty='none'.\n",
    "hd_mod = LogisticRegression(solver='lbfgs', penalty='l2', max_iter=1000)\n",
    "\n",
    "# Fit the model to the training data.\n",
    "hd_mod.fit(X_train_3, y_train_3)"
   ]
  },
  {
   "cell_type": "code",
   "execution_count": 20,
   "metadata": {},
   "outputs": [
    {
     "name": "stdout",
     "output_type": "stream",
     "text": [
      "Intercept:     [-8.24457537]\n",
      "Coefficients: \n",
      " [[-0.03272091  1.28823041  0.70130785  0.02154868  0.01211051 -0.4206115\n",
      "   0.33156954 -0.01950024  0.57993976  0.37993184  0.18873249  0.94574263\n",
      "   0.41115898]]\n"
     ]
    }
   ],
   "source": [
    "# Display the intercepts and coefficients for the final model with text labels \n",
    "print(\"Intercept:    \", hd_mod.intercept_)\n",
    "print(\"Coefficients: \\n\", hd_mod.coef_)"
   ]
  },
  {
   "cell_type": "code",
   "execution_count": 21,
   "metadata": {},
   "outputs": [
    {
     "name": "stdout",
     "output_type": "stream",
     "text": [
      "Training Accuracy:  0.8565\n",
      "Testing Accuracy:   0.8148\n"
     ]
    }
   ],
   "source": [
    "# Calculate and print the training and testing accuracy scores for your model, rounded to four decimal places. \n",
    "train_acc = hd_mod.score(X_train_3, y_train_3)\n",
    "test_acc = hd_mod.score(X_test_3, y_test_3)\n",
    "print(\"Training Accuracy: \", round(train_acc, 4))\n",
    "print(\"Testing Accuracy:  \", round(test_acc, 4))"
   ]
  },
  {
   "cell_type": "code",
   "execution_count": 22,
   "metadata": {},
   "outputs": [
    {
     "name": "stdout",
     "output_type": "stream",
     "text": [
      "Observed Labels:  [2 2 2 1 1 2 1 1 2 1 2 1 1 1 2 1 1 1 2 1]\n",
      "Predicted Labels: [2 2 2 1 1 2 1 1 2 1 2 1 1 1 2 1 1 1 2 1]\n"
     ]
    }
   ],
   "source": [
    "# Use your model to generate label predictions for observations in the test set. Store in a variable named test_pred_3.\n",
    "test_pred_3 = hd_mod.predict(X_test_3)\n",
    "\n",
    "# Print the first 20 observed labels for the test set, and then the first 20 predicted labels.\n",
    "print(\"Observed Labels: \", y_test_3[:20])\n",
    "print(\"Predicted Labels:\", test_pred_3[:20])"
   ]
  },
  {
   "cell_type": "code",
   "execution_count": 23,
   "metadata": {},
   "outputs": [
    {
     "name": "stdout",
     "output_type": "stream",
     "text": [
      "          1         2\n",
      "0  0.021211  0.978789\n",
      "1  0.053512  0.946488\n",
      "2  0.045840  0.954160\n",
      "3  0.860618  0.139382\n",
      "4  0.875003  0.124997\n",
      "5  0.071442  0.928558\n",
      "6  0.930170  0.069830\n",
      "7  0.924971  0.075029\n",
      "8  0.016324  0.983676\n",
      "9  0.993589  0.006411\n"
     ]
    }
   ],
   "source": [
    "# Use the predict_proba() method of your model to estimate probabilities of being in each of the two classes for each in dividual in the test set. \n",
    "test_prob_3 = hd_mod.predict_proba(X_test_3)\n",
    "\n",
    "# Display the predicted probabilities for the first 10 observations in the test set as a DataFrame with the columns named according to the labels that they represent (1 and 2).\n",
    "print(pd.DataFrame(test_prob_3[:10], columns=['1', '2']))\n"
   ]
  },
  {
   "cell_type": "markdown",
   "metadata": {},
   "source": [
    "## Problem 4: Gapminder Dataset"
   ]
  },
  {
   "cell_type": "code",
   "execution_count": 24,
   "metadata": {},
   "outputs": [
    {
     "data": {
      "text/html": [
       "<div>\n",
       "<style scoped>\n",
       "    .dataframe tbody tr th:only-of-type {\n",
       "        vertical-align: middle;\n",
       "    }\n",
       "\n",
       "    .dataframe tbody tr th {\n",
       "        vertical-align: top;\n",
       "    }\n",
       "\n",
       "    .dataframe thead th {\n",
       "        text-align: right;\n",
       "    }\n",
       "</style>\n",
       "<table border=\"1\" class=\"dataframe\">\n",
       "  <thead>\n",
       "    <tr style=\"text-align: right;\">\n",
       "      <th></th>\n",
       "      <th>country</th>\n",
       "      <th>year</th>\n",
       "      <th>continent</th>\n",
       "      <th>population</th>\n",
       "      <th>life_exp</th>\n",
       "      <th>gdp_per_cap</th>\n",
       "      <th>gini</th>\n",
       "    </tr>\n",
       "  </thead>\n",
       "  <tbody>\n",
       "    <tr>\n",
       "      <th>40112</th>\n",
       "      <td>Afghanistan</td>\n",
       "      <td>2018</td>\n",
       "      <td>asia</td>\n",
       "      <td>36400000</td>\n",
       "      <td>58.7</td>\n",
       "      <td>1870</td>\n",
       "      <td>36.8</td>\n",
       "    </tr>\n",
       "    <tr>\n",
       "      <th>40113</th>\n",
       "      <td>Albania</td>\n",
       "      <td>2018</td>\n",
       "      <td>europe</td>\n",
       "      <td>2930000</td>\n",
       "      <td>78.0</td>\n",
       "      <td>12400</td>\n",
       "      <td>29.0</td>\n",
       "    </tr>\n",
       "    <tr>\n",
       "      <th>40114</th>\n",
       "      <td>Algeria</td>\n",
       "      <td>2018</td>\n",
       "      <td>africa</td>\n",
       "      <td>42000000</td>\n",
       "      <td>77.9</td>\n",
       "      <td>13700</td>\n",
       "      <td>27.6</td>\n",
       "    </tr>\n",
       "    <tr>\n",
       "      <th>40115</th>\n",
       "      <td>Angola</td>\n",
       "      <td>2018</td>\n",
       "      <td>africa</td>\n",
       "      <td>30800000</td>\n",
       "      <td>65.2</td>\n",
       "      <td>5850</td>\n",
       "      <td>42.6</td>\n",
       "    </tr>\n",
       "    <tr>\n",
       "      <th>40116</th>\n",
       "      <td>Antigua and Barbuda</td>\n",
       "      <td>2018</td>\n",
       "      <td>americas</td>\n",
       "      <td>103000</td>\n",
       "      <td>77.6</td>\n",
       "      <td>21000</td>\n",
       "      <td>40.0</td>\n",
       "    </tr>\n",
       "    <tr>\n",
       "      <th>40117</th>\n",
       "      <td>Argentina</td>\n",
       "      <td>2018</td>\n",
       "      <td>americas</td>\n",
       "      <td>44700000</td>\n",
       "      <td>77.0</td>\n",
       "      <td>18900</td>\n",
       "      <td>42.4</td>\n",
       "    </tr>\n",
       "    <tr>\n",
       "      <th>40118</th>\n",
       "      <td>Armenia</td>\n",
       "      <td>2018</td>\n",
       "      <td>europe</td>\n",
       "      <td>2930000</td>\n",
       "      <td>76.0</td>\n",
       "      <td>8660</td>\n",
       "      <td>32.6</td>\n",
       "    </tr>\n",
       "    <tr>\n",
       "      <th>40119</th>\n",
       "      <td>Australia</td>\n",
       "      <td>2018</td>\n",
       "      <td>asia</td>\n",
       "      <td>24800000</td>\n",
       "      <td>82.9</td>\n",
       "      <td>45800</td>\n",
       "      <td>32.3</td>\n",
       "    </tr>\n",
       "    <tr>\n",
       "      <th>40120</th>\n",
       "      <td>Austria</td>\n",
       "      <td>2018</td>\n",
       "      <td>europe</td>\n",
       "      <td>8750000</td>\n",
       "      <td>81.8</td>\n",
       "      <td>44600</td>\n",
       "      <td>30.5</td>\n",
       "    </tr>\n",
       "    <tr>\n",
       "      <th>40121</th>\n",
       "      <td>Azerbaijan</td>\n",
       "      <td>2018</td>\n",
       "      <td>europe</td>\n",
       "      <td>9920000</td>\n",
       "      <td>72.3</td>\n",
       "      <td>16600</td>\n",
       "      <td>32.4</td>\n",
       "    </tr>\n",
       "  </tbody>\n",
       "</table>\n",
       "</div>"
      ],
      "text/plain": [
       "                   country  year continent  population  life_exp  gdp_per_cap  \\\n",
       "40112          Afghanistan  2018      asia    36400000      58.7         1870   \n",
       "40113              Albania  2018    europe     2930000      78.0        12400   \n",
       "40114              Algeria  2018    africa    42000000      77.9        13700   \n",
       "40115               Angola  2018    africa    30800000      65.2         5850   \n",
       "40116  Antigua and Barbuda  2018  americas      103000      77.6        21000   \n",
       "40117            Argentina  2018  americas    44700000      77.0        18900   \n",
       "40118              Armenia  2018    europe     2930000      76.0         8660   \n",
       "40119            Australia  2018      asia    24800000      82.9        45800   \n",
       "40120              Austria  2018    europe     8750000      81.8        44600   \n",
       "40121           Azerbaijan  2018    europe     9920000      72.3        16600   \n",
       "\n",
       "       gini  \n",
       "40112  36.8  \n",
       "40113  29.0  \n",
       "40114  27.6  \n",
       "40115  42.6  \n",
       "40116  40.0  \n",
       "40117  42.4  \n",
       "40118  32.6  \n",
       "40119  32.3  \n",
       "40120  30.5  \n",
       "40121  32.4  "
      ]
     },
     "execution_count": 24,
     "metadata": {},
     "output_type": "execute_result"
    }
   ],
   "source": [
    "# Loading the gapminder data\n",
    "\n",
    "gm = pd.read_csv('gapminder_data.txt', sep='\\t')\n",
    "\n",
    "# Filter the DataFrame, keeping only the 2018 results  storing the results in a DataFrame named gm18\n",
    "gm18 = gm[gm['year'] == 2018]\n",
    "\n",
    "# Printing 10 rows of the gm18 DataFrame\n",
    "gm18.head(10)\n",
    "# gm18.shape"
   ]
  },
  {
   "cell_type": "code",
   "execution_count": 25,
   "metadata": {},
   "outputs": [
    {
     "name": "stdout",
     "output_type": "stream",
     "text": [
      "Training Features Shape:  (128, 3)\n",
      "Test Features Shape:      (56, 3)\n"
     ]
    }
   ],
   "source": [
    "# Create a 2D feature array named X4 containing the relevant features, as well as a 1D label array named y4 containing the labels.\n",
    "X4 = gm18[['life_exp', 'gdp_per_cap', 'gini']].values\n",
    "y4 = gm18['continent'].values\n",
    "\n",
    "# Use train_test_split() to split the data into training and testing sets using an 70/30 split. \n",
    "X_train_4, X_test_4, y_train_4, y_test_4 = train_test_split(X4, y4, test_size=0.3, random_state=1, stratify=y4)\n",
    "\n",
    "#Printing the shapes of the training and testing sets\n",
    "print(\"Training Features Shape: \", X_train_4.shape)\n",
    "print(\"Test Features Shape:     \", X_test_4.shape)"
   ]
  },
  {
   "cell_type": "code",
   "execution_count": 26,
   "metadata": {},
   "outputs": [
    {
     "name": "stdout",
     "output_type": "stream",
     "text": [
      "Intercepts:  [ 0.00204203 -0.00470401  0.00330181 -0.00063984]\n",
      "Coefficients: \n",
      " [[-8.77062420e-02 -1.02831358e-04  1.99760840e-01]\n",
      " [-8.56503807e-02  3.30058296e-05  1.58644152e-01]\n",
      " [ 1.91300756e-02  2.94861826e-05 -2.30227246e-02]\n",
      " [ 1.54226547e-01  4.03393454e-05 -3.35382267e-01]]\n"
     ]
    }
   ],
   "source": [
    "# Create a logistic regression model named gm_mod with the following parameter vakues: solver='lbfgs', penalty='none', and multi_class='multinomial'\n",
    "gm_mod = LogisticRegression(solver='lbfgs', penalty='l2', multi_class='multinomial', max_iter=1000)\n",
    "\n",
    "# Fit the model to the training data.\n",
    "gm_mod.fit(X_train_4, y_train_4)\n",
    "\n",
    "# Display the intercepts and coefficients for the final model with text labels\n",
    "print(\"Intercepts: \", gm_mod.intercept_)\n",
    "print(\"Coefficients: \\n\", gm_mod.coef_)"
   ]
  },
  {
   "cell_type": "code",
   "execution_count": 27,
   "metadata": {},
   "outputs": [
    {
     "name": "stdout",
     "output_type": "stream",
     "text": [
      "Training Accuracy:  0.625\n",
      "Testing Accuracy:   0.5893\n"
     ]
    }
   ],
   "source": [
    "# Calculate and print the training and testing accuracy scores for your model, rounded to four decimal places\n",
    "train_acc = gm_mod.score(X_train_4, y_train_4)\n",
    "test_acc = gm_mod.score(X_test_4, y_test_4)\n",
    "print(\"Training Accuracy: \", round(train_acc, 4))\n",
    "print(\"Testing Accuracy:  \", round(test_acc, 4))"
   ]
  },
  {
   "cell_type": "code",
   "execution_count": 28,
   "metadata": {},
   "outputs": [
    {
     "name": "stdout",
     "output_type": "stream",
     "text": [
      "Observed Labels:  ['americas' 'asia' 'asia' 'asia' 'africa' 'europe' 'asia' 'europe']\n",
      "Predicted Labels: ['asia' 'europe' 'africa' 'asia' 'europe' 'europe' 'africa' 'europe']\n"
     ]
    }
   ],
   "source": [
    "# Use your model to generate label predictions for observations in the test set. Store in a variable named test_pred_4.\n",
    "test_pred_4 = gm_mod.predict(X_test_4)\n",
    "\n",
    "# Print first 8 observed labels for the test set, and then the first 8 predicted labels.\n",
    "print(\"Observed Labels: \", y_test_4[:8])\n",
    "print(\"Predicted Labels:\", test_pred_4[:8])\n"
   ]
  },
  {
   "cell_type": "code",
   "execution_count": 29,
   "metadata": {},
   "outputs": [
    {
     "name": "stdout",
     "output_type": "stream",
     "text": [
      "     africa  americas      asia    europe\n",
      "0  0.066609  0.259704  0.577046  0.096641\n",
      "1  0.001130  0.044204  0.358314  0.596352\n",
      "2  0.662159  0.210684  0.123601  0.003556\n",
      "3  0.227270  0.262003  0.455723  0.055005\n",
      "4  0.002104  0.005070  0.113471  0.879355\n",
      "5  0.001891  0.024302  0.253165  0.720642\n",
      "6  0.629675  0.218800  0.147507  0.004018\n",
      "7  0.000028  0.000768  0.033744  0.965460\n"
     ]
    }
   ],
   "source": [
    "# Use the predict_proba() method of your model to estimate probabilities of being in each of the four classes for each individual in the test set. \n",
    "test_prob_4 = gm_mod.predict_proba(X_test_4)\n",
    "\n",
    "# Display the predicted probabilities for the first 8 observations in the test set as a DataFrame with the columns named according to the labels that they represent (Africa, Americas, Asia, Europe).\n",
    "print(pd.DataFrame(test_prob_4[:8], columns=gm_mod.classes_))"
   ]
  },
  {
   "cell_type": "code",
   "execution_count": 30,
   "metadata": {},
   "outputs": [],
   "source": [
    "# New data for the gapminder model\n",
    "data = {\n",
    "    'life_exp': [75, 75, 75, 75, 75, 75],\n",
    "    'gdp_per_cap': [5000, 5000, 5000, 20000, 20000, 20000],\n",
    "    'gini': [30, 40, 50, 30, 40, 50]\n",
    "}\n",
    "gm_new = pd.DataFrame(data)\n"
   ]
  },
  {
   "cell_type": "code",
   "execution_count": 31,
   "metadata": {},
   "outputs": [
    {
     "name": "stdout",
     "output_type": "stream",
     "text": [
      "     africa  americas      asia    europe\n",
      "0  0.039209  0.026103  0.287429  0.647260\n",
      "1  0.432989  0.191077  0.342045  0.033890\n",
      "2  0.725677  0.212279  0.061775  0.000269\n",
      "3  0.004979  0.025432  0.265639  0.703950\n",
      "4  0.092553  0.313343  0.532067  0.062038\n",
      "5  0.258606  0.580366  0.160206  0.000822\n"
     ]
    },
    {
     "name": "stderr",
     "output_type": "stream",
     "text": [
      "/opt/anaconda3/lib/python3.11/site-packages/sklearn/base.py:432: UserWarning: X has feature names, but LogisticRegression was fitted without feature names\n",
      "  warnings.warn(\n"
     ]
    }
   ],
   "source": [
    "# Pass this DataFrame to the predict_proba() method of your model. Round the estimated probabilities to 3 decimal places.\n",
    "new_prob_4 = gm_mod.predict_proba(gm_new)\n",
    "\n",
    "# Display the predicted probabilities for the new data as a DataFrame with the columns named according to the labels that they represent (Africa, Americas, Asia, Europe).\n",
    "print(pd.DataFrame(new_prob_4, columns=gm_mod.classes_))"
   ]
  },
  {
   "cell_type": "markdown",
   "metadata": {},
   "source": [
    "According to our model:\n",
    "• Country 0 is most likely in Europe\n",
    "\n",
    "• Country 1 is most likely in Africa\n",
    "\n",
    "• Country 2 is most likely in Africa\n",
    "\n",
    "• Country 3 is most likely in Europe\n",
    "\n",
    "• Country 4 is most likely in Africa\n",
    "\n",
    "• Country 5 is most likely in Americas\n"
   ]
  },
  {
   "cell_type": "markdown",
   "metadata": {},
   "source": []
  }
 ],
 "metadata": {
  "kernelspec": {
   "display_name": "Python 3 (ipykernel)",
   "language": "python",
   "name": "python3"
  },
  "language_info": {
   "codemirror_mode": {
    "name": "ipython",
    "version": 3
   },
   "file_extension": ".py",
   "mimetype": "text/x-python",
   "name": "python",
   "nbconvert_exporter": "python",
   "pygments_lexer": "ipython3",
   "version": "3.11.7"
  }
 },
 "nbformat": 4,
 "nbformat_minor": 2
}
